{
 "cells": [
  {
   "cell_type": "code",
   "execution_count": 441,
   "metadata": {},
   "outputs": [],
   "source": [
    "class Piece:\n",
    "    def __init__(self, piece_type: str, piece_color: bool, x: str, y: int) -> None:\n",
    "        self.piece_type = piece_type # K - King, Q - Queen, R - Rook, B - Bishop, N - Knight, P - Pawn\n",
    "        self.piece_color = piece_color # False - black, True - white\n",
    "        self.x = ord(x) - ord('a') # a - 0, b - 1, c - 2, d - 3, e - 4, f - 5, g - 6, h - 7\n",
    "        self.y = y - 1"
   ]
  },
  {
   "cell_type": "code",
   "execution_count": 442,
   "metadata": {},
   "outputs": [
    {
     "data": {
      "text/plain": [
       "63"
      ]
     },
     "execution_count": 442,
     "metadata": {},
     "output_type": "execute_result"
    }
   ],
   "source": [
    "rook = Piece('R', True, 'h', 8)\n",
    "\n",
    "# Init board as two-dimensional list\n",
    "board = [[0 for _ in range(8)] for _ in range(8)]\n",
    "\n",
    "# Fill list with numbers from 0 to 63\n",
    "for i in range(8):\n",
    "    for j in range(8):\n",
    "        board[i][j] = i * 8 + j\n",
    "\n",
    "board[rook.y][rook.x]"
   ]
  },
  {
   "cell_type": "code",
   "execution_count": 443,
   "metadata": {},
   "outputs": [],
   "source": [
    "fen_postion = [\n",
    "    'rnbqkbnr/pppppppp/8/8/8/8/PPPPPPPP/RNBQKBNR w KQkq - 0 1', # Starting pos 0\n",
    "    'rnbqkbnr/pp1ppppp/8/2p5/4P3/5N2/PPPP1PPP/RNBQKB1R b KQkq - 1 2', # Starting pos e4 c5 Nf3 1\n",
    "    'rnbqkbnr/p1pqp2p/1q6/5Qq1/2Q4Q/8/PPPP1P1P/RNBQKBNR w KQkq - 0 1', # Starting pos many queens 2\n",
    "    'R7/8/8/8/8/8/8/8 w - - 0 1', # Rook 3\n",
    "    'R7/8/8/4R3/8/R7/8/8 w - - 0 1', # Rook 4\n",
    "    'R7/8/4R3/2R1R3/8/R7/8/8 w - - 0 1', # Rook 5\n",
    "    'R5r1/4b3/4R3/b1R1R3/7r/R7/2b5/8 w - - 0 1', # Rook 6\n",
    "    '8/8/8/4b3/8/8/8/8 w - - 0 1', # Bishop 7\n",
    "    '8/8/8/4b3/8/6b1/8/8 w - - 0 1', # Bishop 8\n",
    "    '7b/8/8/4b3/8/6b1/8/8 w - - 0 1', # Bishop 9\n",
    "    '8/8/8/4q3/8/8/8/8 w - - 0 1', # Queen 10\n",
    "    '8/8/3nnn2/3nqn2/3nnn2/8/8/8 w - - 0 1', # Queen 11\n",
    "    '8/8/8/3n4/8/8/8/8 w - - 0 1', # Knight 12\n",
    "    'n6n/8/8/8/8/8/8/n6n w - - 0 1', # Knight 13\n",
    "    '8/8/8/3k4/8/8/8/8 w - - 0 1', # King 14\n",
    "]\n",
    "def fen_decode(fen: str):\n",
    "    board = [['' for _ in range(8)] for _ in range(8)]\n",
    "    parts = fen.split(' ')\n",
    "    board_fen = parts[0]\n",
    "\n",
    "    rank_ranks = board_fen.split('/')\n",
    "    pieces = []\n",
    "    for i, rank_fen in enumerate(rank_ranks):\n",
    "        file_index = 0\n",
    "        for char in rank_fen:\n",
    "            if char.isdigit():  # Number of empty files\n",
    "                file_index += int(char)\n",
    "            else:  # Piece\n",
    "                if char.islower():\n",
    "                    board[i][file_index] = char\n",
    "                    pieces.append(Piece(char.upper(), False, chr(ord('a') + file_index).lower(), i + 1))\n",
    "                    file_index += 1\n",
    "                elif char.isupper():\n",
    "                    board[i][file_index] = char\n",
    "                    pieces.append(Piece(char.upper(), True, chr(ord('A') + file_index).lower(), i + 1))\n",
    "                    file_index += 1\n",
    "\n",
    "    for i in range(8):\n",
    "        for j in range(8):\n",
    "            if board[i][j] == '':\n",
    "                board[i][j] = '.'\n",
    "\n",
    "    return board, pieces"
   ]
  },
  {
   "cell_type": "code",
   "execution_count": 444,
   "metadata": {},
   "outputs": [
    {
     "name": "stdout",
     "output_type": "stream",
     "text": [
      "K False d 5\n"
     ]
    }
   ],
   "source": [
    "board, pieces = fen_decode(fen_postion[14])\n",
    "for piece in pieces:\n",
    "    print(piece.piece_type, piece.piece_color, chr(ord('a') + piece.x), 8 - piece.y)"
   ]
  },
  {
   "cell_type": "code",
   "execution_count": 445,
   "metadata": {},
   "outputs": [
    {
     "name": "stdout",
     "output_type": "stream",
     "text": [
      ".  .  .  .  .  .  .  .  \n",
      ".  .  .  .  .  .  .  .  \n",
      ".  .  .  .  .  .  .  .  \n",
      ".  .  .  k  .  .  .  .  \n",
      ".  .  .  .  .  .  .  .  \n",
      ".  .  .  .  .  .  .  .  \n",
      ".  .  .  .  .  .  .  .  \n",
      ".  .  .  .  .  .  .  .  \n"
     ]
    }
   ],
   "source": [
    "for i in range(8):\n",
    "    for j in range(8):\n",
    "        print(board[i][j], end='  ')\n",
    "    print()"
   ]
  },
  {
   "cell_type": "code",
   "execution_count": 446,
   "metadata": {},
   "outputs": [],
   "source": [
    "def check_rook(piece: Piece, board: list, color: bool):\n",
    "    print(piece.x, piece.y)\n",
    "    for i in range(piece.x + 1, 8):\n",
    "        if board[piece.y][i] == '.':\n",
    "            print('Puste prawo', chr(ord('a') + i), 8 - piece.y)\n",
    "        else:\n",
    "            print('Zajęte prawo', chr(ord('a') + i), 8 - piece.y)\n",
    "            break\n",
    "\n",
    "    for i in range(piece.x - 1, -1, -1):\n",
    "        if board[piece.y][i] == '.':\n",
    "            print('Puste lewo', chr(ord('a') + i), 8 - piece.y)\n",
    "        else:\n",
    "            print('Zajęte lewo', chr(ord('a') + i), 8 - piece.y)\n",
    "            break\n",
    "    \n",
    "    for i in range(piece.y + 1, 8):\n",
    "        if board[i][piece.x] == '.':\n",
    "            print('Puste dół', chr(ord('a') + piece.x), 8 - i)\n",
    "        else:\n",
    "            print('Zajęte dół', chr(ord('a') + piece.x), 8 - i)\n",
    "            break\n",
    "\n",
    "    for i in range(piece.y - 1, -1, -1):\n",
    "        if board[i][piece.x] == '.':\n",
    "            print('Puste góra', chr(ord('a') + piece.x), 8 - i)\n",
    "        else:\n",
    "            print('Zajęte góra', chr(ord('a') + piece.x), 8 - i)\n",
    "            break"
   ]
  },
  {
   "cell_type": "code",
   "execution_count": 447,
   "metadata": {},
   "outputs": [],
   "source": [
    "def check_bishop(piece: Piece, board: list, color: bool):\n",
    "    print(piece.x, piece.y)\n",
    "    for i in range(1, 8):\n",
    "        if i < 8 - piece.x and i < 8 - piece.y:\n",
    "            if board[piece.y + i][piece.x + i] == '.':\n",
    "                print('Puste prawo dół', chr(ord('a') + i + piece.x), 8 - piece.y - i)\n",
    "            else:\n",
    "                print('Zajęte prawo dół', chr(ord('a') + i + piece.x), 8 - piece.y - i)\n",
    "                break\n",
    "        else:\n",
    "            break\n",
    "\n",
    "    for i in range(1, 8):\n",
    "        if i < 8 - piece.x and i < piece.y + 1:\n",
    "            if board[piece.y - i][piece.x + i] == '.':\n",
    "                print('Puste prawo góra', chr(ord('a') + i + piece.x), 8 - piece.y + i)\n",
    "            else:\n",
    "                print('Zajęte prawo góra', chr(ord('a') + i + piece.x), 8 - piece.y + i)\n",
    "                break\n",
    "        else:\n",
    "            break\n",
    "\n",
    "    for i in range(1, 8):\n",
    "        if i < piece.x + 1 and i < 8 - piece.y:\n",
    "            if board[piece.y + i][piece.x - i] == '.':\n",
    "                print('Puste lewo dół', chr(ord('a') - i + piece.x), 8 - piece.y - i)\n",
    "            else:\n",
    "                print('Zajęte lewo dół', chr(ord('a') - i + piece.x), 8 - piece.y - i)\n",
    "                break\n",
    "        else:\n",
    "            break\n",
    "\n",
    "    for i in range(1, 8):\n",
    "        if i < piece.x + 1 and i < piece.y + 1:\n",
    "            if board[piece.y - i][piece.x - i] == '.':\n",
    "                print('Puste lewo góra', chr(ord('a') - i + piece.x), 8 - piece.y + i)\n",
    "            else:\n",
    "                print('Zajęte lewo góra', chr(ord('a') - i + piece.x), 8 - piece.y + i)\n",
    "                break\n",
    "        else:\n",
    "            break"
   ]
  },
  {
   "cell_type": "code",
   "execution_count": 448,
   "metadata": {},
   "outputs": [],
   "source": [
    "def check_knight(piece: Piece, board: list, color: bool):\n",
    "    print(piece.x, piece.y)\n",
    "    if piece.x + 2 < 7 and piece.y - 1 > 0:\n",
    "        print('Ruch 2 w prawo 1 w górę', chr(ord('a') + 2 + piece.x), 8 - piece.y + 1)\n",
    "    if piece.x + 2 < 7 and piece.y + 1 < 7:\n",
    "        print('Ruch 2 w prawo 1 w dół', chr(ord('a') + 2 + piece.x), 8 - piece.y - 1)\n",
    "    if piece.x + 1 < 7 and piece.y + 2 < 7:\n",
    "        print('Ruch 1 w prawo 2 w dół', chr(ord('a') + 1 + piece.x), 8 - piece.y - 2)\n",
    "    if piece.x - 1 > 0 and piece.y + 2 < 7:\n",
    "        print('Ruch 1 w lewo 2 w dół', chr(ord('a') - 1 + piece.x), 8 - piece.y - 2)\n",
    "    if piece.x - 2 > 0 and piece.y + 1 < 7:\n",
    "        print('Ruch 2 w lewo 1 w dół', chr(ord('a') - 2 + piece.x), 8 - piece.y - 1)\n",
    "    if piece.x - 2 > 0 and piece.y - 1 > 0:\n",
    "        print('Ruch 2 w lewo 1 w górę', chr(ord('a') - 2 + piece.x), 8 - piece.y + 1)\n",
    "    if piece.x - 1 > 0 and piece.y - 2 > 0:\n",
    "        print('Ruch 1 w lewo 2 w górę', chr(ord('a') - 1 + piece.x), 8 - piece.y + 2)\n",
    "    if piece.x + 1 < 7 and piece.y - 2 > 0:\n",
    "        print('Ruch 1 w prawo 2 w górę', chr(ord('a') + 1 + piece.x), 8 - piece.y + 2)"
   ]
  },
  {
   "cell_type": "code",
   "execution_count": 449,
   "metadata": {},
   "outputs": [],
   "source": [
    "def check_king(piece: Piece, board: list, color: bool):\n",
    "    print(piece.x, piece.y)\n",
    "    if piece.x + 1 < 7:\n",
    "        print('Ruch w prawo', chr(ord('a') + 1 + piece.x), 8 - piece.y)\n",
    "    if piece.x - 1 > 0:\n",
    "        print('Ruch w lewo', chr(ord('a') - 1 + piece.x), 8 - piece.y)\n",
    "    if piece.y + 1 < 7:\n",
    "        print('Ruch w dół', chr(ord('a') + piece.x), 8 - piece.y - 1)\n",
    "    if piece.y - 1 > 0:\n",
    "        print('Ruch w górę', chr(ord('a') + piece.x), 8 - piece.y + 1)\n",
    "    if piece.x + 1 < 7 and piece.y + 1 < 7:\n",
    "        print('Ruch w prawo dół', chr(ord('a') + 1 + piece.x), 8 - piece.y - 1)\n",
    "    if piece.x + 1 < 7 and piece.y - 1 > 0:\n",
    "        print('Ruch w prawo górę', chr(ord('a') + 1 + piece.x), 8 - piece.y + 1)\n",
    "    if piece.x - 1 > 0 and piece.y + 1 < 7:\n",
    "        print('Ruch w lewo dół', chr(ord('a') - 1 + piece.x), 8 - piece.y - 1)\n",
    "    if piece.x - 1 > 0 and piece.y - 1 > 0:\n",
    "        print('Ruch w lewo górę', chr(ord('a') - 1 + piece.x), 8 - piece.y + 1)"
   ]
  },
  {
   "cell_type": "code",
   "execution_count": 450,
   "metadata": {},
   "outputs": [],
   "source": [
    "def check_queen(piece: Piece, board: list, color: bool):\n",
    "    check_bishop(piece, board, color)\n",
    "    check_rook(piece, board, color)"
   ]
  },
  {
   "cell_type": "code",
   "execution_count": 451,
   "metadata": {},
   "outputs": [],
   "source": [
    "for piece in pieces:\n",
    "    if piece.piece_type == 'R':\n",
    "        check_rook(piece, board, True)"
   ]
  },
  {
   "cell_type": "code",
   "execution_count": 452,
   "metadata": {},
   "outputs": [],
   "source": [
    "for piece in pieces:\n",
    "    if piece.piece_type == 'B':\n",
    "        check_bishop(piece, board, True)"
   ]
  },
  {
   "cell_type": "code",
   "execution_count": 453,
   "metadata": {},
   "outputs": [],
   "source": [
    "for piece in pieces:\n",
    "    if piece.piece_type == 'N':\n",
    "        check_knight(piece, board, True)"
   ]
  },
  {
   "cell_type": "code",
   "execution_count": 454,
   "metadata": {},
   "outputs": [],
   "source": [
    "for piece in pieces:\n",
    "    if piece.piece_type == 'Q':\n",
    "        check_queen(piece, board, True)"
   ]
  },
  {
   "cell_type": "code",
   "execution_count": 455,
   "metadata": {},
   "outputs": [
    {
     "name": "stdout",
     "output_type": "stream",
     "text": [
      "3 3\n",
      "Ruch w prawo e 5\n",
      "Ruch w lewo c 5\n",
      "Ruch w dół d 4\n",
      "Ruch w górę d 6\n",
      "Ruch w prawo dół e 4\n",
      "Ruch w prawo górę e 6\n",
      "Ruch w lewo dół c 4\n",
      "Ruch w lewo górę c 6\n"
     ]
    }
   ],
   "source": [
    "for piece in pieces:\n",
    "    if piece.piece_type == 'K':\n",
    "        check_king(piece, board, True)"
   ]
  }
 ],
 "metadata": {
  "kernelspec": {
   "display_name": "Python 3",
   "language": "python",
   "name": "python3"
  },
  "language_info": {
   "codemirror_mode": {
    "name": "ipython",
    "version": 3
   },
   "file_extension": ".py",
   "mimetype": "text/x-python",
   "name": "python",
   "nbconvert_exporter": "python",
   "pygments_lexer": "ipython3",
   "version": "3.11.2"
  },
  "orig_nbformat": 4
 },
 "nbformat": 4,
 "nbformat_minor": 2
}
