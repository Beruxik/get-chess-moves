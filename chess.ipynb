{
 "cells": [
  {
   "cell_type": "code",
   "execution_count": 230,
   "metadata": {},
   "outputs": [],
   "source": [
    "class Piece:\n",
    "    def __init__(self, piece_type: str, piece_color: bool, x: str, y: int) -> None:\n",
    "        self.piece_type = piece_type # K - King, Q - Queen, R - Rook, B - Bishop, N - Knight, P - Pawn\n",
    "        self.piece_color = piece_color # False - black, True - white\n",
    "        self.x = ord(x) - ord('a') # a - 0, b - 1, c - 2, d - 3, e - 4, f - 5, g - 6, h - 7\n",
    "        self.y = y - 1 # It goes from top to bottom, f.e. d1 has y of 7"
   ]
  },
  {
   "cell_type": "code",
   "execution_count": 231,
   "metadata": {},
   "outputs": [
    {
     "data": {
      "text/plain": [
       "63"
      ]
     },
     "execution_count": 231,
     "metadata": {},
     "output_type": "execute_result"
    }
   ],
   "source": [
    "rook = Piece('R', True, 'h', 8)\n",
    "\n",
    "# Init board as two-dimensional list\n",
    "board = [[0 for _ in range(8)] for _ in range(8)]\n",
    "\n",
    "# Fill list with numbers from 0 to 63\n",
    "for i in range(8):\n",
    "    for j in range(8):\n",
    "        board[i][j] = i * 8 + j\n",
    "\n",
    "board[rook.y][rook.x]"
   ]
  },
  {
   "cell_type": "code",
   "execution_count": 232,
   "metadata": {},
   "outputs": [],
   "source": [
    "fen_postion = [\n",
    "    'rnbqkbnr/pppppppp/8/8/8/8/PPPPPPPP/RNBQKBNR w KQkq - 0 1', # Starting pos 0\n",
    "    'rnbqkbnr/pp1ppppp/8/2p5/4P3/5N2/PPPP1PPP/RNBQKB1R b KQkq - 1 2', # Starting pos e4 c5 Nf3 1\n",
    "    'rnbqkbnr/p1pqp2p/1q6/5Qq1/2Q4Q/8/PPPP1P1P/RNBQKBNR w KQkq - 0 1', # Starting pos many queens 2\n",
    "    'R7/8/8/8/8/8/8/8 w - - 0 1', # Rook 3\n",
    "    'R7/8/8/4R3/8/R7/8/8 w - - 0 1', # Rook 4\n",
    "    'R7/8/4R3/2R1R3/8/R7/8/8 w - - 0 1', # Rook 5\n",
    "    'R5r1/4b3/4R3/b1R1R3/7r/R7/2b5/8 w - - 0 1', # Rook 6\n",
    "    '8/8/8/4b3/8/8/8/8 w - - 0 1', # Bishop 7\n",
    "    '8/8/8/4b3/8/6b1/8/8 w - - 0 1', # Bishop 8\n",
    "    '7b/8/8/4b3/8/6b1/8/8 w - - 0 1', # Bishop 9\n",
    "    '8/8/8/4q3/8/8/8/8 w - - 0 1', # Queen 10\n",
    "    '8/8/3nnn2/3nqn2/3nnn2/8/8/8 w - - 0 1', # Queen 11\n",
    "    '8/8/8/3n4/8/8/8/8 w - - 0 1', # Knight 12\n",
    "    'n6n/8/8/8/8/8/8/n6n w - - 0 1', # Knight 13\n",
    "    '8/8/8/3k4/8/8/8/8 w - - 0 1', # King 14\n",
    "    'K6K/8/8/8/8/8/8/K6K w - - 0 1', # King 15\n",
    "    'rnbqkbnr/pppppppp/3QQ3/8/8/3qq3/PPPPPPPP/RNBQKBNR w KQkq - 0 1', # Starting position with check pawn takes 16\n",
    "]\n",
    "def fen_decode(fen: str):\n",
    "    board = [['' for _ in range(8)] for _ in range(8)]\n",
    "    parts = fen.split(' ')\n",
    "    board_fen = parts[0]\n",
    "\n",
    "    rank_ranks = board_fen.split('/')\n",
    "    pieces = []\n",
    "    for i, rank_fen in enumerate(rank_ranks):\n",
    "        file_index = 0\n",
    "        for char in rank_fen:\n",
    "            if char.isdigit():  # Number of empty files\n",
    "                file_index += int(char)\n",
    "            else:  # Piece\n",
    "                if char.islower():\n",
    "                    board[i][file_index] = char\n",
    "                    pieces.append(Piece(char.upper(), False, chr(ord('a') + file_index).lower(), i + 1))\n",
    "                    file_index += 1\n",
    "                elif char.isupper():\n",
    "                    board[i][file_index] = char\n",
    "                    pieces.append(Piece(char.upper(), True, chr(ord('A') + file_index).lower(), i + 1))\n",
    "                    file_index += 1\n",
    "\n",
    "    for i in range(8):\n",
    "        for j in range(8):\n",
    "            if board[i][j] == '':\n",
    "                board[i][j] = '.'\n",
    "\n",
    "    return board, pieces"
   ]
  },
  {
   "cell_type": "code",
   "execution_count": 233,
   "metadata": {},
   "outputs": [
    {
     "name": "stdout",
     "output_type": "stream",
     "text": [
      "R False a 8\n",
      "N False b 8\n",
      "B False c 8\n",
      "Q False d 8\n",
      "K False e 8\n",
      "B False f 8\n",
      "N False g 8\n",
      "R False h 8\n",
      "P False a 7\n",
      "P False b 7\n",
      "P False c 7\n",
      "P False d 7\n",
      "P False e 7\n",
      "P False f 7\n",
      "P False g 7\n",
      "P False h 7\n",
      "Q True d 6\n",
      "Q True e 6\n",
      "Q False d 3\n",
      "Q False e 3\n",
      "P True a 2\n",
      "P True b 2\n",
      "P True c 2\n",
      "P True d 2\n",
      "P True e 2\n",
      "P True f 2\n",
      "P True g 2\n",
      "P True h 2\n",
      "R True a 1\n",
      "N True b 1\n",
      "B True c 1\n",
      "Q True d 1\n",
      "K True e 1\n",
      "B True f 1\n",
      "N True g 1\n",
      "R True h 1\n"
     ]
    }
   ],
   "source": [
    "board, pieces = fen_decode(fen_postion[16])\n",
    "for piece in pieces:\n",
    "    print(piece.piece_type, piece.piece_color, chr(ord('a') + piece.x), 8 - piece.y) # For purpose of good printing I'm substracting y value from 8 and making character from x value by adding an unicode code of 'a' to it"
   ]
  },
  {
   "cell_type": "code",
   "execution_count": 234,
   "metadata": {},
   "outputs": [
    {
     "name": "stdout",
     "output_type": "stream",
     "text": [
      "r  n  b  q  k  b  n  r  \n",
      "p  p  p  p  p  p  p  p  \n",
      ".  .  .  Q  Q  .  .  .  \n",
      ".  .  .  .  .  .  .  .  \n",
      ".  .  .  .  .  .  .  .  \n",
      ".  .  .  q  q  .  .  .  \n",
      "P  P  P  P  P  P  P  P  \n",
      "R  N  B  Q  K  B  N  R  \n"
     ]
    }
   ],
   "source": [
    "for i in range(8):\n",
    "    for j in range(8):\n",
    "        print(board[i][j], end='  ')\n",
    "    print()"
   ]
  },
  {
   "cell_type": "code",
   "execution_count": 235,
   "metadata": {},
   "outputs": [],
   "source": [
    "def check_rook(piece: Piece, board: list, color: bool):\n",
    "    print(piece.x, piece.y)\n",
    "    for i in range(piece.x + 1, 8):\n",
    "        if board[piece.y][i] == '.':\n",
    "            print('Puste prawo', chr(ord('a') + i), 8 - piece.y)\n",
    "        else:\n",
    "            print('Zajęte prawo', chr(ord('a') + i), 8 - piece.y)\n",
    "            break\n",
    "\n",
    "    for i in range(piece.x - 1, -1, -1):\n",
    "        if board[piece.y][i] == '.':\n",
    "            print('Puste lewo', chr(ord('a') + i), 8 - piece.y)\n",
    "        else:\n",
    "            print('Zajęte lewo', chr(ord('a') + i), 8 - piece.y)\n",
    "            break\n",
    "    \n",
    "    for i in range(piece.y + 1, 8):\n",
    "        if board[i][piece.x] == '.':\n",
    "            print('Puste dół', chr(ord('a') + piece.x), 8 - i)\n",
    "        else:\n",
    "            print('Zajęte dół', chr(ord('a') + piece.x), 8 - i)\n",
    "            break\n",
    "\n",
    "    for i in range(piece.y - 1, -1, -1):\n",
    "        if board[i][piece.x] == '.':\n",
    "            print('Puste góra', chr(ord('a') + piece.x), 8 - i)\n",
    "        else:\n",
    "            print('Zajęte góra', chr(ord('a') + piece.x), 8 - i)\n",
    "            break"
   ]
  },
  {
   "cell_type": "code",
   "execution_count": 236,
   "metadata": {},
   "outputs": [],
   "source": [
    "def check_bishop(piece: Piece, board: list, color: bool):\n",
    "    print(piece.x, piece.y)\n",
    "    for i in range(1, 8):\n",
    "        if i < 8 - piece.x and i < 8 - piece.y:\n",
    "            if board[piece.y + i][piece.x + i] == '.':\n",
    "                print('Puste prawo dół', chr(ord('a') + i + piece.x), 8 - piece.y - i)\n",
    "            else:\n",
    "                print('Zajęte prawo dół', chr(ord('a') + i + piece.x), 8 - piece.y - i)\n",
    "                break\n",
    "        else:\n",
    "            break\n",
    "\n",
    "    for i in range(1, 8):\n",
    "        if i < 8 - piece.x and i < piece.y + 1:\n",
    "            if board[piece.y - i][piece.x + i] == '.':\n",
    "                print('Puste prawo góra', chr(ord('a') + i + piece.x), 8 - piece.y + i)\n",
    "            else:\n",
    "                print('Zajęte prawo góra', chr(ord('a') + i + piece.x), 8 - piece.y + i)\n",
    "                break\n",
    "        else:\n",
    "            break\n",
    "\n",
    "    for i in range(1, 8):\n",
    "        if i < piece.x + 1 and i < 8 - piece.y:\n",
    "            if board[piece.y + i][piece.x - i] == '.':\n",
    "                print('Puste lewo dół', chr(ord('a') - i + piece.x), 8 - piece.y - i)\n",
    "            else:\n",
    "                print('Zajęte lewo dół', chr(ord('a') - i + piece.x), 8 - piece.y - i)\n",
    "                break\n",
    "        else:\n",
    "            break\n",
    "\n",
    "    for i in range(1, 8):\n",
    "        if i < piece.x + 1 and i < piece.y + 1:\n",
    "            if board[piece.y - i][piece.x - i] == '.':\n",
    "                print('Puste lewo góra', chr(ord('a') - i + piece.x), 8 - piece.y + i)\n",
    "            else:\n",
    "                print('Zajęte lewo góra', chr(ord('a') - i + piece.x), 8 - piece.y + i)\n",
    "                break\n",
    "        else:\n",
    "            break"
   ]
  },
  {
   "cell_type": "code",
   "execution_count": 237,
   "metadata": {},
   "outputs": [],
   "source": [
    "def check_knight(piece: Piece, board: list, color: bool):\n",
    "    print(piece.x, piece.y)\n",
    "    if piece.x + 2 <= 7 and piece.y - 1 >= 0 and board[piece.y - 1][piece.x + 2] == '.':\n",
    "        print('Ruch 2 w prawo 1 w górę', chr(ord('a') + 2 + piece.x), 8 - piece.y + 1)\n",
    "    if piece.x + 2 <= 7 and piece.y + 1 <= 7 and board[piece.y + 1][piece.x + 2] == '.':\n",
    "        print('Ruch 2 w prawo 1 w dół', chr(ord('a') + 2 + piece.x), 8 - piece.y - 1)\n",
    "    if piece.x + 1 <= 7 and piece.y + 2 <= 7 and board[piece.y + 2][piece.x + 1] == '.':\n",
    "        print('Ruch 1 w prawo 2 w dół', chr(ord('a') + 1 + piece.x), 8 - piece.y - 2)\n",
    "    if piece.x - 1 >= 0 and piece.y + 2 <= 7 and board[piece.y + 2][piece.x - 1] == '.':\n",
    "        print('Ruch 1 w lewo 2 w dół', chr(ord('a') - 1 + piece.x), 8 - piece.y - 2)\n",
    "    if piece.x - 2 >= 0 and piece.y + 1 <= 7 and board[piece.y + 1][piece.x - 2] == '.':\n",
    "        print('Ruch 2 w lewo 1 w dół', chr(ord('a') - 2 + piece.x), 8 - piece.y - 1)\n",
    "    if piece.x - 2 >= 0 and piece.y - 1 >= 0 and board[piece.y - 1][piece.x - 2] == '.':\n",
    "        print('Ruch 2 w lewo 1 w górę', chr(ord('a') - 2 + piece.x), 8 - piece.y + 1)\n",
    "    if piece.x - 1 >= 0 and piece.y - 2 >= 0 and board[piece.y - 2][piece.x - 1] == '.':\n",
    "        print('Ruch 1 w lewo 2 w górę', chr(ord('a') - 1 + piece.x), 8 - piece.y + 2)\n",
    "    if piece.x + 1 <= 7 and piece.y - 2 >= 0 and board[piece.y - 2][piece.x + 1] == '.':\n",
    "        print('Ruch 1 w prawo 2 w górę', chr(ord('a') + 1 + piece.x), 8 - piece.y + 2)"
   ]
  },
  {
   "cell_type": "code",
   "execution_count": 238,
   "metadata": {},
   "outputs": [],
   "source": [
    "def check_king(piece: Piece, board: list, color: bool):\n",
    "    print(piece.x, piece.y)\n",
    "    if piece.x + 1 <= 7 and board[piece.y][piece.x + 1] == '.':\n",
    "        print('Ruch w prawo', chr(ord('a') + 1 + piece.x), 8 - piece.y)\n",
    "    if piece.x - 1 >= 0 and board[piece.y][piece.x - 1] == '.':\n",
    "        print('Ruch w lewo', chr(ord('a') - 1 + piece.x), 8 - piece.y)\n",
    "    if piece.y + 1 <= 7 and board[piece.y + 1][piece.x] == '.':\n",
    "        print('Ruch w dół', chr(ord('a') + piece.x), 8 - piece.y - 1)\n",
    "    if piece.y - 1 >= 0 and board[piece.y - 1][piece.x] == '.':\n",
    "        print('Ruch w górę', chr(ord('a') + piece.x), 8 - piece.y + 1)\n",
    "    if piece.x + 1 <= 7 and piece.y + 1 <= 7 and board[piece.y + 1][piece.x + 1] == '.':\n",
    "        print('Ruch w prawo dół', chr(ord('a') + 1 + piece.x), 8 - piece.y - 1)\n",
    "    if piece.x + 1 <= 7 and piece.y - 1 >= 0 and board[piece.y - 1][piece.x + 1] == '.':\n",
    "        print('Ruch w prawo górę', chr(ord('a') + 1 + piece.x), 8 - piece.y + 1)\n",
    "    if piece.x - 1 >= 0 and piece.y + 1 <= 7 and board[piece.y + 1][piece.x - 1] == '.':\n",
    "        print('Ruch w lewo dół', chr(ord('a') - 1 + piece.x), 8 - piece.y - 1)\n",
    "    if piece.x - 1 >= 0 and piece.y - 1 >= 0 and board[piece.y - 1][piece.x - 1] == '.':\n",
    "        print('Ruch w lewo górę', chr(ord('a') - 1 + piece.x), 8 - piece.y + 1)"
   ]
  },
  {
   "cell_type": "code",
   "execution_count": 239,
   "metadata": {},
   "outputs": [],
   "source": [
    "def check_queen(piece: Piece, board: list, color: bool):\n",
    "    check_bishop(piece, board, color)\n",
    "    check_rook(piece, board, color)"
   ]
  },
  {
   "cell_type": "code",
   "execution_count": 240,
   "metadata": {},
   "outputs": [],
   "source": [
    "def check_pawn(piece: Piece, board: list, color: bool):\n",
    "    print(piece.x, piece.y)\n",
    "    if piece.piece_color:\n",
    "        if board[piece.y - 1][piece.x] == '.':\n",
    "            print('Ruch w górę', chr(ord('a') + piece.x), 8 - piece.y + 1)\n",
    "        if piece.y == 6 and board[piece.y - 2][piece.x] == '.':\n",
    "            print('Ruch w górę', chr(ord('a') + piece.x), 8 - piece.y + 2)\n",
    "        if piece.x != 0:\n",
    "            if board[piece.y - 1][piece.x - 1] != '.' and board[piece.y - 1][piece.x - 1] != 'k' and board[piece.y - 1][piece.x - 1].islower():\n",
    "                print('Bicie w lewo', chr(ord('a') + piece.x - 1), 8 - piece.y + 1)\n",
    "        if piece.x != 7:\n",
    "            if board[piece.y - 1][piece.x + 1] != '.' and board[piece.y - 1][piece.x + 1] != 'k' and board[piece.y - 1][piece.x + 1].islower():\n",
    "                print('Bicie w prawo', chr(ord('a') + piece.x + 1), 8 - piece.y + 1)\n",
    "    else:\n",
    "        if board[piece.y + 1][piece.x] == '.':\n",
    "            print('Ruch w dół', chr(ord('a') + piece.x), 8 - piece.y - 1)\n",
    "        if piece.y == 1 and board[piece.y + 2][piece.x] == '.':\n",
    "            print('Ruch w dół', chr(ord('a') + piece.x), 8 - piece.y - 2)\n",
    "        if piece.x != 0:\n",
    "            if board[piece.y + 1][piece.x - 1] != '.' and board[piece.y + 1][piece.x - 1] != 'K' and board[piece.y + 1][piece.x - 1].isupper():\n",
    "                print('Bicie w lewo', chr(ord('a') + piece.x - 1), 8 - piece.y - 1)\n",
    "        if piece.x != 7:\n",
    "            if board[piece.y + 1][piece.x + 1] != '.' and board[piece.y + 1][piece.x + 1] != 'K' and board[piece.y + 1][piece.x + 1].isupper():\n",
    "                print('Bicie w prawo', chr(ord('a') + piece.x + 1), 8 - piece.y - 1)"
   ]
  },
  {
   "cell_type": "code",
   "execution_count": 241,
   "metadata": {},
   "outputs": [
    {
     "name": "stdout",
     "output_type": "stream",
     "text": [
      "0 0\n",
      "Zajęte prawo b 8\n",
      "Zajęte dół a 7\n",
      "7 0\n",
      "Zajęte lewo g 8\n",
      "Zajęte dół h 7\n",
      "0 7\n",
      "Zajęte prawo b 1\n",
      "Zajęte góra a 2\n",
      "7 7\n",
      "Zajęte lewo g 1\n",
      "Zajęte góra h 2\n"
     ]
    }
   ],
   "source": [
    "for piece in pieces:\n",
    "    if piece.piece_type == 'R':\n",
    "        check_rook(piece, board, True)"
   ]
  },
  {
   "cell_type": "code",
   "execution_count": 242,
   "metadata": {},
   "outputs": [
    {
     "name": "stdout",
     "output_type": "stream",
     "text": [
      "2 0\n",
      "Zajęte prawo dół d 7\n",
      "Zajęte lewo dół b 7\n",
      "5 0\n",
      "Zajęte prawo dół g 7\n",
      "Zajęte lewo dół e 7\n",
      "2 7\n",
      "Zajęte prawo góra d 2\n",
      "Zajęte lewo góra b 2\n",
      "5 7\n",
      "Zajęte prawo góra g 2\n",
      "Zajęte lewo góra e 2\n"
     ]
    }
   ],
   "source": [
    "for piece in pieces:\n",
    "    if piece.piece_type == 'B':\n",
    "        check_bishop(piece, board, True)"
   ]
  },
  {
   "cell_type": "code",
   "execution_count": 243,
   "metadata": {},
   "outputs": [
    {
     "name": "stdout",
     "output_type": "stream",
     "text": [
      "1 0\n",
      "Ruch 1 w prawo 2 w dół c 6\n",
      "Ruch 1 w lewo 2 w dół a 6\n",
      "6 0\n",
      "Ruch 1 w prawo 2 w dół h 6\n",
      "Ruch 1 w lewo 2 w dół f 6\n",
      "1 7\n",
      "Ruch 1 w lewo 2 w górę a 3\n",
      "Ruch 1 w prawo 2 w górę c 3\n",
      "6 7\n",
      "Ruch 1 w lewo 2 w górę f 3\n",
      "Ruch 1 w prawo 2 w górę h 3\n"
     ]
    }
   ],
   "source": [
    "for piece in pieces:\n",
    "    if piece.piece_type == 'N':\n",
    "        check_knight(piece, board, True)"
   ]
  },
  {
   "cell_type": "code",
   "execution_count": 244,
   "metadata": {},
   "outputs": [
    {
     "name": "stdout",
     "output_type": "stream",
     "text": [
      "3 0\n",
      "Zajęte prawo dół e 7\n",
      "Zajęte lewo dół c 7\n",
      "3 0\n",
      "Zajęte prawo e 8\n",
      "Zajęte lewo c 8\n",
      "Zajęte dół d 7\n",
      "3 2\n",
      "Puste prawo dół e 5\n",
      "Puste prawo dół f 4\n",
      "Puste prawo dół g 3\n",
      "Zajęte prawo dół h 2\n",
      "Zajęte prawo góra e 7\n",
      "Puste lewo dół c 5\n",
      "Puste lewo dół b 4\n",
      "Puste lewo dół a 3\n",
      "Zajęte lewo góra c 7\n",
      "3 2\n",
      "Zajęte prawo e 6\n",
      "Puste lewo c 6\n",
      "Puste lewo b 6\n",
      "Puste lewo a 6\n",
      "Puste dół d 5\n",
      "Puste dół d 4\n",
      "Zajęte dół d 3\n",
      "Zajęte góra d 7\n",
      "4 2\n",
      "Puste prawo dół f 5\n",
      "Puste prawo dół g 4\n",
      "Puste prawo dół h 3\n",
      "Zajęte prawo góra f 7\n",
      "Puste lewo dół d 5\n",
      "Puste lewo dół c 4\n",
      "Puste lewo dół b 3\n",
      "Zajęte lewo dół a 2\n",
      "Zajęte lewo góra d 7\n",
      "4 2\n",
      "Puste prawo f 6\n",
      "Puste prawo g 6\n",
      "Puste prawo h 6\n",
      "Zajęte lewo d 6\n",
      "Puste dół e 5\n",
      "Puste dół e 4\n",
      "Zajęte dół e 3\n",
      "Zajęte góra e 7\n",
      "3 5\n",
      "Zajęte prawo dół e 2\n",
      "Puste prawo góra e 4\n",
      "Puste prawo góra f 5\n",
      "Puste prawo góra g 6\n",
      "Zajęte prawo góra h 7\n",
      "Zajęte lewo dół c 2\n",
      "Puste lewo góra c 4\n",
      "Puste lewo góra b 5\n",
      "Puste lewo góra a 6\n",
      "3 5\n",
      "Zajęte prawo e 3\n",
      "Puste lewo c 3\n",
      "Puste lewo b 3\n",
      "Puste lewo a 3\n",
      "Zajęte dół d 2\n",
      "Puste góra d 4\n",
      "Puste góra d 5\n",
      "Zajęte góra d 6\n",
      "4 5\n",
      "Zajęte prawo dół f 2\n",
      "Puste prawo góra f 4\n",
      "Puste prawo góra g 5\n",
      "Puste prawo góra h 6\n",
      "Zajęte lewo dół d 2\n",
      "Puste lewo góra d 4\n",
      "Puste lewo góra c 5\n",
      "Puste lewo góra b 6\n",
      "Zajęte lewo góra a 7\n",
      "4 5\n",
      "Puste prawo f 3\n",
      "Puste prawo g 3\n",
      "Puste prawo h 3\n",
      "Zajęte lewo d 3\n",
      "Zajęte dół e 2\n",
      "Puste góra e 4\n",
      "Puste góra e 5\n",
      "Zajęte góra e 6\n",
      "3 7\n",
      "Zajęte prawo góra e 2\n",
      "Zajęte lewo góra c 2\n",
      "3 7\n",
      "Zajęte prawo e 1\n",
      "Zajęte lewo c 1\n",
      "Zajęte góra d 2\n"
     ]
    }
   ],
   "source": [
    "for piece in pieces:\n",
    "    if piece.piece_type == 'Q':\n",
    "        check_queen(piece, board, True)"
   ]
  },
  {
   "cell_type": "code",
   "execution_count": 245,
   "metadata": {},
   "outputs": [
    {
     "name": "stdout",
     "output_type": "stream",
     "text": [
      "4 0\n",
      "4 7\n"
     ]
    }
   ],
   "source": [
    "for piece in pieces:\n",
    "    if piece.piece_type == 'K':\n",
    "        check_king(piece, board, True)"
   ]
  },
  {
   "cell_type": "code",
   "execution_count": 246,
   "metadata": {},
   "outputs": [
    {
     "name": "stdout",
     "output_type": "stream",
     "text": [
      "0 1\n",
      "Ruch w dół a 6\n",
      "Ruch w dół a 5\n",
      "1 1\n",
      "Ruch w dół b 6\n",
      "Ruch w dół b 5\n",
      "2 1\n",
      "Ruch w dół c 6\n",
      "Ruch w dół c 5\n",
      "Bicie w prawo d 6\n",
      "3 1\n",
      "Ruch w dół d 5\n",
      "Bicie w prawo e 6\n",
      "4 1\n",
      "Ruch w dół e 5\n",
      "Bicie w lewo d 6\n",
      "5 1\n",
      "Ruch w dół f 6\n",
      "Ruch w dół f 5\n",
      "Bicie w lewo e 6\n",
      "6 1\n",
      "Ruch w dół g 6\n",
      "Ruch w dół g 5\n",
      "7 1\n",
      "Ruch w dół h 6\n",
      "Ruch w dół h 5\n",
      "0 6\n",
      "Ruch w górę a 3\n",
      "Ruch w górę a 4\n",
      "1 6\n",
      "Ruch w górę b 3\n",
      "Ruch w górę b 4\n",
      "2 6\n",
      "Ruch w górę c 3\n",
      "Ruch w górę c 4\n",
      "Bicie w prawo d 3\n",
      "3 6\n",
      "Ruch w górę d 4\n",
      "Bicie w prawo e 3\n",
      "4 6\n",
      "Ruch w górę e 4\n",
      "Bicie w lewo d 3\n",
      "5 6\n",
      "Ruch w górę f 3\n",
      "Ruch w górę f 4\n",
      "Bicie w lewo e 3\n",
      "6 6\n",
      "Ruch w górę g 3\n",
      "Ruch w górę g 4\n",
      "7 6\n",
      "Ruch w górę h 3\n",
      "Ruch w górę h 4\n"
     ]
    }
   ],
   "source": [
    "for piece in pieces:\n",
    "    if piece.piece_type == 'P':\n",
    "        check_pawn(piece, board, False)"
   ]
  }
 ],
 "metadata": {
  "kernelspec": {
   "display_name": "Python 3",
   "language": "python",
   "name": "python3"
  },
  "language_info": {
   "codemirror_mode": {
    "name": "ipython",
    "version": 3
   },
   "file_extension": ".py",
   "mimetype": "text/x-python",
   "name": "python",
   "nbconvert_exporter": "python",
   "pygments_lexer": "ipython3",
   "version": "3.11.2"
  },
  "orig_nbformat": 4
 },
 "nbformat": 4,
 "nbformat_minor": 2
}
